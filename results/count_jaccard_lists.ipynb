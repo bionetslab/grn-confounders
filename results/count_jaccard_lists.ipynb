{
 "cells": [
  {
   "cell_type": "code",
   "execution_count": 1,
   "metadata": {},
   "outputs": [],
   "source": [
    "import os"
   ]
  },
  {
   "cell_type": "markdown",
   "metadata": {},
   "source": [
    "This script can be used to count the number of files (lists of computed mean Jaccard Indices over k) computed for the four tools ARACNe-AP, CEMiTool, GRNBoost2, and WGCNA (paper test protocol part 1), as well as the mean Jaccard Indices computed to compare the networks inferred from the whole dataset with the networks inferred from the single blocks (paper test protocol part 2). All results have to be stored in the results/ subdirectory. The results from the first part of the test protocol have to be stored in the subdirectories ARACNE, CEMITOOL, GRNBOOST2, and WGCNA accordingly. The results from the second part of the test protocol have to be stored in the subdirectory mean_JI_G_all_comparisons."
   ]
  },
  {
   "cell_type": "code",
   "execution_count": 2,
   "metadata": {},
   "outputs": [
    {
     "name": "stdout",
     "output_type": "stream",
     "text": [
      "./ARACNE/: 0\n",
      "./ARACNE/GBM: 220\n",
      "./ARACNE/KIRP: 330\n",
      "./ARACNE/PCPG: 330\n",
      "./ARACNE/LUSC: 330\n",
      "./ARACNE/CESC: 330\n",
      "./ARACNE/COAD: 440\n",
      "./ARACNE/BRCA: 220\n",
      "./ARACNE/KIRC: 330\n",
      "./ARACNE/STAD: 330\n",
      "./ARACNE/LUAD: 440\n",
      "./ARACNE/BRCA_metabric: 110\n",
      "./ARACNE/READ: 220\n",
      "./ARACNE/HNSC: 550\n",
      "file count: 4180\n"
     ]
    }
   ],
   "source": [
    "aracne_count = 0\n",
    "for root_dir, cur_dir, files in os.walk('./ARACNE/'):\n",
    "    print(f'{root_dir}: {len(files)}')\n",
    "    aracne_count += len(files)\n",
    "print('file count:', aracne_count)"
   ]
  },
  {
   "cell_type": "code",
   "execution_count": 3,
   "metadata": {},
   "outputs": [
    {
     "name": "stdout",
     "output_type": "stream",
     "text": [
      "./CEMITOOL/: 0\n",
      "./CEMITOOL/GBM: 220\n",
      "./CEMITOOL/KIRP: 330\n",
      "./CEMITOOL/PCPG: 330\n",
      "./CEMITOOL/LUSC: 330\n",
      "./CEMITOOL/CESC: 330\n",
      "./CEMITOOL/COAD: 440\n",
      "./CEMITOOL/BRCA: 220\n",
      "./CEMITOOL/KIRC: 330\n",
      "./CEMITOOL/STAD: 330\n",
      "./CEMITOOL/LUAD: 440\n",
      "./CEMITOOL/BRCA_metabric: 110\n",
      "./CEMITOOL/READ: 220\n",
      "./CEMITOOL/HNSC: 550\n",
      "file count: 4180\n"
     ]
    }
   ],
   "source": [
    "cemi_count = 0\n",
    "for root_dir, cur_dir, files in os.walk('./CEMITOOL/'):\n",
    "    print(f'{root_dir}: {len(files)}')\n",
    "    cemi_count += len(files)\n",
    "print('file count:', cemi_count)"
   ]
  },
  {
   "cell_type": "code",
   "execution_count": 4,
   "metadata": {},
   "outputs": [
    {
     "name": "stdout",
     "output_type": "stream",
     "text": [
      "./WGCNA/: 0\n",
      "./WGCNA/GBM: 220\n",
      "./WGCNA/KIRP: 330\n",
      "./WGCNA/PCPG: 330\n",
      "./WGCNA/LUSC: 330\n",
      "./WGCNA/CESC: 330\n",
      "./WGCNA/COAD: 440\n",
      "./WGCNA/BRCA: 220\n",
      "./WGCNA/KIRC: 330\n",
      "./WGCNA/STAD: 330\n",
      "./WGCNA/LUAD: 440\n",
      "./WGCNA/BRCA_metabric: 110\n",
      "./WGCNA/READ: 220\n",
      "./WGCNA/HNSC: 550\n",
      "file count: 4180\n"
     ]
    }
   ],
   "source": [
    "wgcna_count = 0\n",
    "for root_dir, cur_dir, files in os.walk('./WGCNA/'):\n",
    "    print(f'{root_dir}: {len(files)}')\n",
    "    wgcna_count += len(files)\n",
    "print('file count:', wgcna_count)"
   ]
  },
  {
   "cell_type": "code",
   "execution_count": 5,
   "metadata": {},
   "outputs": [
    {
     "name": "stdout",
     "output_type": "stream",
     "text": [
      "./GRNBOOST2/: 0\n",
      "./GRNBOOST2/KIRP: 110\n",
      "./GRNBOOST2/PCPG: 110\n",
      "./GRNBOOST2/LUSC: 110\n",
      "./GRNBOOST2/CESC: 110\n",
      "./GRNBOOST2/BRCA: 220\n",
      "./GRNBOOST2/KIRC: 110\n",
      "./GRNBOOST2/STAD: 110\n",
      "./GRNBOOST2/BRCA_metabric: 110\n",
      "file count: 990\n"
     ]
    }
   ],
   "source": [
    "grnb_count = 0\n",
    "for root_dir, cur_dir, files in os.walk('./GRNBOOST2/'):\n",
    "    print(f'{root_dir}: {len(files)}')\n",
    "    grnb_count += len(files)\n",
    "print('file count:', grnb_count)"
   ]
  },
  {
   "cell_type": "code",
   "execution_count": 6,
   "metadata": {},
   "outputs": [
    {
     "name": "stdout",
     "output_type": "stream",
     "text": [
      "./mean_JI_G_all_comparisons/: 1070\n",
      "file count: 1070\n"
     ]
    }
   ],
   "source": [
    "g_all_count = 0\n",
    "for root_dir, cur_dir, files in os.walk('./mean_JI_G_all_comparisons/'):\n",
    "    print(f'{root_dir}: {len(files)}')\n",
    "    g_all_count += len(files)\n",
    "print('file count:', g_all_count)"
   ]
  },
  {
   "cell_type": "code",
   "execution_count": 7,
   "metadata": {},
   "outputs": [],
   "source": [
    "total = aracne_count + cemi_count + wgcna_count + grnb_count + g_all_count"
   ]
  },
  {
   "cell_type": "code",
   "execution_count": 8,
   "metadata": {},
   "outputs": [
    {
     "data": {
      "text/plain": [
       "14600"
      ]
     },
     "execution_count": 8,
     "metadata": {},
     "output_type": "execute_result"
    }
   ],
   "source": [
    "total"
   ]
  },
  {
   "cell_type": "code",
   "execution_count": null,
   "metadata": {},
   "outputs": [],
   "source": []
  }
 ],
 "metadata": {
  "kernelspec": {
   "display_name": "Python 3",
   "language": "python",
   "name": "python3"
  },
  "language_info": {
   "codemirror_mode": {
    "name": "ipython",
    "version": 3
   },
   "file_extension": ".py",
   "mimetype": "text/x-python",
   "name": "python",
   "nbconvert_exporter": "python",
   "pygments_lexer": "ipython3",
   "version": "3.8.17"
  }
 },
 "nbformat": 4,
 "nbformat_minor": 4
}
