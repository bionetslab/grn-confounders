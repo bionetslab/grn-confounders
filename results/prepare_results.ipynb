{
 "cells": [
  {
   "cell_type": "code",
   "execution_count": 14,
   "metadata": {},
   "outputs": [],
   "source": [
    "import seaborn as sns\n",
    "import matplotlib.pyplot as plt\n",
    "import pandas as pd\n",
    "import os\n",
    "import scipy\n",
    "import numpy as np\n",
    "import glob\n",
    "from scipy.stats import mannwhitneyu\n",
    "from matplotlib.pyplot import subplot_mosaic as mosaic\n",
    "import matplotlib.transforms as mtransforms\n",
    "import math\n",
    "import matplotlib"
   ]
  },
  {
   "cell_type": "markdown",
   "metadata": {},
   "source": [
    "### Read results from the first part of the test protocol and save to csv for faster plotting"
   ]
  },
  {
   "cell_type": "code",
   "execution_count": 5,
   "metadata": {},
   "outputs": [],
   "source": [
    "cwd = os.getcwd()\n",
    "n = 100 # nb of random partitions\n",
    "k = 5000 # nb of max top_k_edges selected\n",
    "m = 10 # number of iterations on confounder-based partitions\n",
    "ct_sels_init = ['BRCA_metabric', 'BRCA', 'CESC', 'COAD', 'GBM', 'HNSC', 'KIRC', 'KIRP', 'LUAD', 'LUSC', 'PCPG', 'READ', 'STAD']\n",
    "confs_init = ['tobacco_smoking_history', 'alcohol_history.exposures', 'age_quartile', 'age_at_initial_pathologic_diagnosis', 'race.demographic', 'gender.demographic', 'tumor_stage.diagnoses', 'Tumor Stage']\n",
    "algs = ['ARACNE', 'CEMITOOL', 'GRNBOOST2', 'WGCNA'] # string identifiers of algorithms\n",
    "alpha = 0.05"
   ]
  },
  {
   "cell_type": "code",
   "execution_count": 6,
   "metadata": {},
   "outputs": [],
   "source": [
    "JI = pd.DataFrame(columns = ['Confounder/\\nvariable', 'Cohort', 'Method', 'Partition type', 'partID', 'k', 'mean JI'])\n",
    "for alg_sel in algs:\n",
    "    for conf_sel in confs_init:\n",
    "        for ct_sel in ct_sels_init:\n",
    "            path = os.path.join(cwd, alg_sel, str(ct_sel))\n",
    "            for i in range(m):\n",
    "                try:\n",
    "                    filename = f'cb_{i}_{alg_sel}_{conf_sel}_{ct_sel}_jaccInd.csv'\n",
    "                    filename = os.path.join(path, filename)\n",
    "                    df_conf = pd.read_csv(filename, sep=',', header=0)\n",
    "                    df_conf['partID'] = i\n",
    "                    df_conf['Partition type'] = 'confounder-based partition'\n",
    "                    df_conf['Method'] = alg_sel\n",
    "                    df_conf['Cohort'] = ct_sel\n",
    "                    df_conf['Confounder/\\nvariable'] = conf_sel\n",
    "                    JI = pd.concat([JI, df_conf])\n",
    "                except:\n",
    "                    continue\n",
    "for alg_sel in algs:\n",
    "    for conf_sel in confs_init:\n",
    "        for ct_sel in ct_sels_init:\n",
    "            path = os.path.join(cwd, alg_sel, str(ct_sel))\n",
    "            for i in range(n):\n",
    "                filename = 'rnd'+'_'+str(i)+'_'+alg_sel+'_'+conf_sel+'_'+ct_sel+'_jaccInd.csv'\n",
    "                try:\n",
    "                    df_rnd = pd.read_csv(os.path.join(path, filename), sep=',', header=0)                   \n",
    "                    df_rnd['partID'] = i\n",
    "                    df_rnd['Partition type'] = 'random partition'\n",
    "                    df_rnd['Method'] = alg_sel\n",
    "                    df_rnd['Cohort'] = ct_sel\n",
    "                    df_rnd['Confounder/\\nvariable'] = conf_sel\n",
    "                except:\n",
    "                    continue\n",
    "                JI = pd.concat([JI, df_rnd])\n",
    "JI_all = JI.copy()"
   ]
  },
  {
   "cell_type": "code",
   "execution_count": 7,
   "metadata": {},
   "outputs": [],
   "source": [
    "# adjust fields\n",
    "JI_all['Confounder/\\nvariable'] = JI_all['Confounder/\\nvariable'].replace(['race'], 'ethnicity')\n",
    "JI_all['Confounder/\\nvariable'] = JI_all['Confounder/\\nvariable'].replace(['race.demographic'], 'ethnicity')\n",
    "JI_all['Confounder/\\nvariable'] = JI_all['Confounder/\\nvariable'].replace(['age_quartile'], 'age')\n",
    "JI_all['Confounder/\\nvariable'] = JI_all['Confounder/\\nvariable'].replace(['gender.demographic'], 'sex')\n",
    "JI_all['Confounder/\\nvariable'] = JI_all['Confounder/\\nvariable'].replace(['tumor_stage.diagnoses'], 'stage')\n",
    "JI_all['Confounder/\\nvariable'] = JI_all['Confounder/\\nvariable'].replace(['alcohol_history.exposures'], 'alcohol history')\n",
    "JI_all['Confounder/\\nvariable'] = JI_all['Confounder/\\nvariable'].replace(['tobacco_smoking_history'], 'smoking history')\n",
    "\n",
    "JI_all['Confounder/\\nvariable'] = JI_all['Confounder/\\nvariable'].replace(['Tumor Stage'], 'stage')\n",
    "JI_all['Cohort'] = JI_all['Cohort'].replace(['BRCA_metabric'], 'METABRIC')\n",
    "JI_all['Confounder/\\nvariable'] = JI_all['Confounder/\\nvariable'].replace(['age_at_initial_pathologic_diagnosis'], 'age')\n",
    "JI_all.rename(columns={'mean JI': 'Mean JI'}, inplace=True)\n",
    "JI_all = JI_all[JI_all['k']%100 == 10]\n",
    "JI_all['Method'] = JI_all['Method'].replace(['ARACNE'], 'ARACNe-AP').replace(['CEMITOOL'], 'CEMiTool').replace(['GRNBOOST2'], 'GRNBoost2')\n",
    "JI_all['Cohort x\\nConfounder'] = JI_all['Cohort'] + ' x ' + JI_all['Confounder/\\nvariable']\n",
    "#JI_all.reset_index(inplace=True)"
   ]
  },
  {
   "cell_type": "code",
   "execution_count": 8,
   "metadata": {},
   "outputs": [],
   "source": [
    "JI_all.to_csv('JI_all.csv', index=False)"
   ]
  },
  {
   "cell_type": "markdown",
   "metadata": {},
   "source": [
    "### Read results from the second part of the test protocol and save to csv for faster plotting"
   ]
  },
  {
   "cell_type": "code",
   "execution_count": 9,
   "metadata": {},
   "outputs": [],
   "source": [
    "alg_sels = ['WGCNA', 'CEMITOOL', 'ARACNE', 'GRNBOOST2']\n",
    "ct_sels = ['METABRIC', 'BRCA', 'CESC', 'STAD', 'KIRC', 'KIRP', 'LUAD']\n",
    "conf_sels = ['age_at_initial_pathologic_diagnosis','race.demographic','gender.demographic']\n",
    "blocks = {'age_at_initial_pathologic_diagnosis': ['lower', 'upper'],\n",
    "          'race.demographic': ['asian', 'black or african american', 'white'],\n",
    "          'gender.demographic': ['female', 'male']}\n",
    "fro = 0\n",
    "to = 10\n",
    "cwd = os.getcwd()\n",
    "JI = {'Confounder': [], 'Cohort': [], 'Method': [], 'Demographic group': [], 'Sampling': [], 'partID': [], 'k': [], 'Mean JI': []}\n",
    "for alg_sel in alg_sels:\n",
    "    for conf_sel in conf_sels:\n",
    "        for ct_sel in ct_sels:\n",
    "            for block in blocks[conf_sel]:\n",
    "                path = os.path.join(cwd, 'mean_JI_G_all_comparisons')\n",
    "                for i in range(fro, to):\n",
    "                    for t in ['conf', 'rnd']:\n",
    "                        if ct_sel == 'METABRIC':\n",
    "                            filename = f'g_all_{t}_{i}_{str(alg_sel)}_age_quartile_BRCA_metabric_{block}_jaccInd.csv'\n",
    "                        else:\n",
    "                            filename = f'g_all_{t}_{i}_{str(alg_sel)}_{str(conf_sel)}_{str(ct_sel)}_{block}_jaccInd.csv'\n",
    "                        try:\n",
    "                            res = pd.read_csv(os.path.join(path, filename), sep=',', usecols=['k','mean JI', 'state'])\n",
    "                            num_rows = res.shape[0]\n",
    "                            JI['Confounder'] += [conf_sel for _ in range(num_rows)]\n",
    "                            JI['Cohort'] += [ct_sel for _ in range(num_rows)]\n",
    "                            JI['Method'] += [alg_sel for _ in range(num_rows)]\n",
    "                            if conf_sel == 'age_at_initial_pathologic_diagnosis':\n",
    "                                subgroup = f'{block.capitalize()} age quartile'\n",
    "                            else:\n",
    "                                subgroup = f'{block.capitalize()}'\n",
    "                            JI['Demographic group'] += [subgroup for _ in range(num_rows)]\n",
    "                            if t == 'rnd':\n",
    "                                JI['Sampling'] += ['Size-matched random' for _ in range(num_rows)]\n",
    "                            else:\n",
    "                                JI['Sampling'] += ['Demography-based' for _ in range(num_rows)]\n",
    "                            JI['partID'] += [i for _ in range(num_rows)]\n",
    "                            JI['k'] += list(res['k'])\n",
    "                            JI['Mean JI'] += list(res['mean JI'])\n",
    "                        except:\n",
    "                            continue\n",
    "JI = pd.DataFrame(data=JI)"
   ]
  },
  {
   "cell_type": "code",
   "execution_count": 10,
   "metadata": {},
   "outputs": [],
   "source": [
    "JI['Confounder'] = JI['Confounder'].replace(['age_at_initial_pathologic_diagnosis'], 'age').replace(['race.demographic'], 'ethnicity').replace(['gender.demographic'], 'sex')\n",
    "JI = JI.replace('ARACNE', 'ARACNe-AP').replace('CEMITOOL', 'CEMiTool').replace('GRNBOOST2', 'GRNBoost2').replace('Black or african american', 'Black or African American')\n",
    "JI = JI[JI['k']%100 == 10]\n",
    "JI['Cohort – confounder'] = JI['Cohort'] + ' – ' + JI['Confounder']\n",
    "JI['Method'] = pd.Categorical(JI['Method'], ['ARACNe-AP', 'CEMiTool', 'GRNBoost2', 'WGCNA'])\n",
    "JI['Cohort – confounder'] = pd.Categorical(JI['Cohort – confounder'], list(JI['Cohort – confounder'].unique()))\n",
    "JI['Demographic group'] = pd.Categorical(JI['Demographic group'], list(JI['Demographic group'].unique()))"
   ]
  },
  {
   "cell_type": "code",
   "execution_count": 11,
   "metadata": {},
   "outputs": [],
   "source": [
    "JI.to_csv('JI_all_g_all.csv', index=False)"
   ]
  },
  {
   "cell_type": "markdown",
   "metadata": {},
   "source": [
    "### Compute MWU tests"
   ]
  },
  {
   "cell_type": "code",
   "execution_count": 15,
   "metadata": {},
   "outputs": [],
   "source": [
    "confs = ['age', 'ethnicity', 'sex', 'alcohol history', 'smoking history', 'stage']\n",
    "ct_sels = ['METABRIC', 'BRCA', 'CESC', 'COAD', 'GBM', 'HNSC', 'KIRC', 'KIRP', 'LUAD', 'LUSC', 'PCPG', 'READ', 'STAD']\n",
    "\n",
    "mwus = pd.DataFrame(columns=['Method', 'Cohort', 'Confounder/\\nvariable', 'k', 'mwu.pvalue'])\n",
    "for alg_sel in ['ARACNe-AP', 'CEMiTool', 'GRNBoost2', 'WGCNA']:\n",
    "    JI_ = JI_all[JI_all['Method'] == alg_sel]\n",
    "    for cohort in ct_sels:\n",
    "        coh = JI_[JI_['Cohort'] == cohort]\n",
    "        for conf_sel in confs:\n",
    "            conf = coh[coh['Confounder/\\nvariable'] == conf_sel]\n",
    "            if len(conf) == 0:\n",
    "                continue\n",
    "            c = conf[conf['Partition type']=='confounder-based partition']\n",
    "            r = conf[conf['Partition type']=='random partition']\n",
    "            for k in sorted(list(set(c['k']))):\n",
    "                c_k = c[c['k'] == k]\n",
    "                r_k = r[r['k'] == k]\n",
    "                mwu = mannwhitneyu(c_k['Mean JI'],r_k['Mean JI'], alternative='less')\n",
    "                df = pd.DataFrame([[alg_sel, cohort, conf_sel, k, mwu.pvalue]], columns=['Method', 'Cohort', 'Confounder/\\nvariable', 'k', 'mwu.pvalue'])\n",
    "                mwus = pd.concat([mwus, df])\n",
    "                \n",
    "mwus.reset_index(inplace=True)\n",
    "manh = mwus.drop('index', axis=1)\n",
    "mwus = mwus.drop('index', axis=1).drop('k', axis=1)\n",
    "\n",
    "count = mwus.groupby(['Method', 'Cohort', 'Confounder/\\nvariable']).count().reset_index()\n",
    "count.rename(columns={'mwu.pvalue':'total.pvalues'}, inplace=True)\n",
    "\n",
    "sign_ = mwus[mwus['mwu.pvalue'] < alpha]\n",
    "sign_ = sign_.groupby(['Method', 'Cohort', 'Confounder/\\nvariable']).count().reset_index()\n",
    "sign_.rename(columns={'mwu.pvalue':'sign.pvalues'}, inplace=True)\n",
    "sign = pd.merge(count, sign_,  how='left', left_on=['Method', 'Cohort', 'Confounder/\\nvariable'],\n",
    "              right_on=['Method', 'Cohort', 'Confounder/\\nvariable']).fillna(0)\n",
    "sign['frac'] = sign['sign.pvalues']/sign['total.pvalues']\n",
    "_mwus = pd.DataFrame(sign).reset_index()\n",
    "_mwus = _mwus[(_mwus['Method'] != 'GRNBoost2') & (_mwus['Method'] != 'GENIE3')]\n",
    "_mwus['Confounder/\\nvariable'] = pd.Categorical(_mwus['Confounder/\\nvariable'], ['age', 'ethnicity', 'sex', 'alcohol history', 'smoking history', 'stage'])\n",
    "corr_coeff= _mwus.pivot(columns='Method',values='frac',index=['Cohort','Confounder/\\nvariable']).corr()"
   ]
  },
  {
   "cell_type": "code",
   "execution_count": 16,
   "metadata": {},
   "outputs": [],
   "source": [
    "_mwus.to_csv('mwus_fast_methods.csv', index=False)"
   ]
  },
  {
   "cell_type": "code",
   "execution_count": 17,
   "metadata": {},
   "outputs": [],
   "source": [
    "mwus = pd.DataFrame(columns=['Method', 'Cohort', 'Confounder/\\nvariable', 'k', 'mwu.pvalue'])\n",
    "algs = ['GRNBoost2']\n",
    "for alg_sel in algs:\n",
    "    JI_ = JI_all[JI_all['Method'] == alg_sel]\n",
    "    for cohort in ct_sels:\n",
    "        coh = JI_[JI_['Cohort'] == cohort]\n",
    "        for conf_sel in confs:\n",
    "            conf = coh[coh['Confounder/\\nvariable'] == conf_sel]\n",
    "            if len(conf) == 0:\n",
    "                continue\n",
    "            c = conf[conf['Partition type']=='confounder-based partition']\n",
    "            r = conf[conf['Partition type']=='random partition']\n",
    "            for k in sorted(list(set(c['k']))):\n",
    "                c_k = c[c['k'] == k]\n",
    "                r_k = r[r['k'] == k]\n",
    "                mwu = mannwhitneyu(c_k['Mean JI'],r_k['Mean JI'], alternative='less')\n",
    "                df = pd.DataFrame([[alg_sel, cohort, conf_sel, k, mwu.pvalue]], columns=['Method', 'Cohort', 'Confounder/\\nvariable', 'k', 'mwu.pvalue'])\n",
    "                mwus = pd.concat([mwus, df])\n",
    "mwus.reset_index(inplace=True)\n",
    "mwus['Cohort - Variable'] = mwus['Cohort'] + ' – ' + mwus['Confounder/\\nvariable']\n",
    "mwus['k'] = pd.Categorical(mwus['k'], range(10, 5000, 100))\n",
    "mwus['-log(p)'] = -np.log10(mwus['mwu.pvalue'])"
   ]
  },
  {
   "cell_type": "code",
   "execution_count": 18,
   "metadata": {},
   "outputs": [],
   "source": [
    "mwus.to_csv('mwus_conf_grnboost2.csv', index=False)"
   ]
  }
 ],
 "metadata": {
  "kernelspec": {
   "display_name": "Python 3",
   "language": "python",
   "name": "python3"
  },
  "language_info": {
   "codemirror_mode": {
    "name": "ipython",
    "version": 3
   },
   "file_extension": ".py",
   "mimetype": "text/x-python",
   "name": "python",
   "nbconvert_exporter": "python",
   "pygments_lexer": "ipython3",
   "version": "3.8.17"
  }
 },
 "nbformat": 4,
 "nbformat_minor": 4
}
