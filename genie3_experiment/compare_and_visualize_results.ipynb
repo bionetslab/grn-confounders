{
 "cells": [
  {
   "cell_type": "code",
   "execution_count": 219,
   "metadata": {},
   "outputs": [],
   "source": [
    "\"\"\"\n",
    "@date: 28rd May 2022\n",
    "@author: Anna Ketteler\n",
    "\"\"\"\n",
    "import sys\n",
    "import os\n",
    "sys.path.append(os.path.abspath('GENIE3'))\n",
    "sys.path.append(os.path.abspath(''))\n",
    "from GENIE3_python import GENIE3 as gn\n",
    "import seaborn as sns\n",
    "import numpy as np\n",
    "import pandas as pd\n",
    "import csv\n",
    "\n",
    "cancer_type = 'TCGA-BLCA'\n",
    "dateStart = '2022-06-12-15-24-50'\n",
    "confounder_classes = ['asian', 'african', 'white']\n",
    "n = 10\n",
    "m = 2\n",
    "cutoff = 50\n",
    "\n",
    "# TODO: get all this from a meta data file printed by data_partitioning.py?\n",
    "\n",
    "cwd = os.getcwd()\n",
    "results_dir = os.path.join(cwd, 'results')\n",
    "timestamp_dir = os.path.join(results_dir, str(dateStart))\n",
    "conf_results_dir = os.path.join(timestamp_dir, str(cancer_type)+'_conf_results')\n",
    "rnd_results_dir = os.path.join(timestamp_dir, str(cancer_type)+'_rnd_results')"
   ]
  },
  {
   "cell_type": "code",
   "execution_count": 220,
   "metadata": {},
   "outputs": [],
   "source": [
    "rnd_res = [] # list of tuples of arrays\n",
    "for k in range(n):\n",
    "    partition_res = [] # tuple of arrays (each array corresponds to a block)\n",
    "    for block_class in confounder_classes:\n",
    "        prefix = os.path.join(rnd_results_dir, 'ranking_iter_'+str(k)+'_rndBlock_'+str(block_class)+'.txt')\n",
    "        block_res = np.genfromtxt(fname=prefix, delimiter=\"\\t\", dtype=str) # array\n",
    "        partition_res.append(block_res[:, :2])\n",
    "    rnd_res.append(tuple(partition_res))\n",
    "#print(len(rnd_res)) # equals number of generated random partitions"
   ]
  },
  {
   "cell_type": "code",
   "execution_count": 221,
   "metadata": {},
   "outputs": [],
   "source": [
    "conf_res = []\n",
    "for k in range(m):\n",
    "    partition_res = []\n",
    "    for block_class in confounder_classes:\n",
    "        prefix = os.path.join(conf_results_dir, 'ranking_iter_'+str(k)+'_confBlock_'+str(block_class)+'.txt')\n",
    "        block_res = np.genfromtxt(fname=prefix, delimiter=\"\\t\", dtype=str)\n",
    "        partition_res.append(block_res[:, :2])\n",
    "    conf_res.append(tuple(partition_res))"
   ]
  },
  {
   "cell_type": "code",
   "execution_count": 222,
   "metadata": {},
   "outputs": [],
   "source": [
    "def countOverlapping(l, k):\n",
    "    sets = []\n",
    "    for block in l:\n",
    "        block_set = set([tuple((t[0], t[1])) for t in block[:k]])\n",
    "        sets.append(block_set)\n",
    "    jaccard_index = len(set.intersection(*sets))/len(set.union(*sets))\n",
    "    return jaccard_index"
   ]
  },
  {
   "cell_type": "code",
   "execution_count": 223,
   "metadata": {},
   "outputs": [
    {
     "data": {
      "text/html": [
       "<div>\n",
       "<style scoped>\n",
       "    .dataframe tbody tr th:only-of-type {\n",
       "        vertical-align: middle;\n",
       "    }\n",
       "\n",
       "    .dataframe tbody tr th {\n",
       "        vertical-align: top;\n",
       "    }\n",
       "\n",
       "    .dataframe thead th {\n",
       "        text-align: right;\n",
       "    }\n",
       "</style>\n",
       "<table border=\"1\" class=\"dataframe\">\n",
       "  <thead>\n",
       "    <tr style=\"text-align: right;\">\n",
       "      <th></th>\n",
       "      <th>5</th>\n",
       "      <th>10</th>\n",
       "      <th>15</th>\n",
       "      <th>20</th>\n",
       "      <th>25</th>\n",
       "      <th>30</th>\n",
       "      <th>35</th>\n",
       "      <th>40</th>\n",
       "      <th>45</th>\n",
       "    </tr>\n",
       "  </thead>\n",
       "  <tbody>\n",
       "    <tr>\n",
       "      <th>rnd_pt_0</th>\n",
       "      <td>0.0</td>\n",
       "      <td>0.0</td>\n",
       "      <td>0.0</td>\n",
       "      <td>0.019231</td>\n",
       "      <td>0.031746</td>\n",
       "      <td>0.042857</td>\n",
       "      <td>0.0375</td>\n",
       "      <td>0.032258</td>\n",
       "      <td>0.04</td>\n",
       "    </tr>\n",
       "    <tr>\n",
       "      <th>rnd_pt_1</th>\n",
       "      <td>0.0</td>\n",
       "      <td>0.0</td>\n",
       "      <td>0.028571</td>\n",
       "      <td>0.021277</td>\n",
       "      <td>0.016949</td>\n",
       "      <td>0.014925</td>\n",
       "      <td>0.012987</td>\n",
       "      <td>0.034483</td>\n",
       "      <td>0.041667</td>\n",
       "    </tr>\n",
       "    <tr>\n",
       "      <th>rnd_pt_2</th>\n",
       "      <td>0.0</td>\n",
       "      <td>0.0</td>\n",
       "      <td>0.052632</td>\n",
       "      <td>0.040816</td>\n",
       "      <td>0.050847</td>\n",
       "      <td>0.042254</td>\n",
       "      <td>0.059524</td>\n",
       "      <td>0.076087</td>\n",
       "      <td>0.068627</td>\n",
       "    </tr>\n",
       "    <tr>\n",
       "      <th>rnd_pt_3</th>\n",
       "      <td>0.0</td>\n",
       "      <td>0.038462</td>\n",
       "      <td>0.026316</td>\n",
       "      <td>0.020833</td>\n",
       "      <td>0.016393</td>\n",
       "      <td>0.013699</td>\n",
       "      <td>0.035714</td>\n",
       "      <td>0.042105</td>\n",
       "      <td>0.057692</td>\n",
       "    </tr>\n",
       "    <tr>\n",
       "      <th>rnd_pt_4</th>\n",
       "      <td>0.0</td>\n",
       "      <td>0.0</td>\n",
       "      <td>0.0</td>\n",
       "      <td>0.040816</td>\n",
       "      <td>0.067797</td>\n",
       "      <td>0.068493</td>\n",
       "      <td>0.059524</td>\n",
       "      <td>0.076087</td>\n",
       "      <td>0.079208</td>\n",
       "    </tr>\n",
       "    <tr>\n",
       "      <th>rnd_pt_5</th>\n",
       "      <td>0.0</td>\n",
       "      <td>0.0</td>\n",
       "      <td>0.0</td>\n",
       "      <td>0.021739</td>\n",
       "      <td>0.017241</td>\n",
       "      <td>0.028986</td>\n",
       "      <td>0.025641</td>\n",
       "      <td>0.033708</td>\n",
       "      <td>0.03125</td>\n",
       "    </tr>\n",
       "    <tr>\n",
       "      <th>rnd_pt_6</th>\n",
       "      <td>0.0</td>\n",
       "      <td>0.0</td>\n",
       "      <td>0.0</td>\n",
       "      <td>0.0</td>\n",
       "      <td>0.0</td>\n",
       "      <td>0.0</td>\n",
       "      <td>0.011905</td>\n",
       "      <td>0.021277</td>\n",
       "      <td>0.04</td>\n",
       "    </tr>\n",
       "    <tr>\n",
       "      <th>rnd_pt_7</th>\n",
       "      <td>0.0</td>\n",
       "      <td>0.037037</td>\n",
       "      <td>0.02439</td>\n",
       "      <td>0.018868</td>\n",
       "      <td>0.016949</td>\n",
       "      <td>0.028169</td>\n",
       "      <td>0.037037</td>\n",
       "      <td>0.043011</td>\n",
       "      <td>0.06</td>\n",
       "    </tr>\n",
       "    <tr>\n",
       "      <th>rnd_pt_8</th>\n",
       "      <td>0.0</td>\n",
       "      <td>0.0</td>\n",
       "      <td>0.0</td>\n",
       "      <td>0.02</td>\n",
       "      <td>0.016129</td>\n",
       "      <td>0.013158</td>\n",
       "      <td>0.035714</td>\n",
       "      <td>0.044444</td>\n",
       "      <td>0.050505</td>\n",
       "    </tr>\n",
       "    <tr>\n",
       "      <th>rnd_pt_9</th>\n",
       "      <td>0.0</td>\n",
       "      <td>0.0</td>\n",
       "      <td>0.0</td>\n",
       "      <td>0.020408</td>\n",
       "      <td>0.032787</td>\n",
       "      <td>0.042857</td>\n",
       "      <td>0.0625</td>\n",
       "      <td>0.054348</td>\n",
       "      <td>0.048077</td>\n",
       "    </tr>\n",
       "  </tbody>\n",
       "</table>\n",
       "</div>"
      ],
      "text/plain": [
       "           5         10        15        20        25        30        35  \\\n",
       "rnd_pt_0  0.0       0.0       0.0  0.019231  0.031746  0.042857    0.0375   \n",
       "rnd_pt_1  0.0       0.0  0.028571  0.021277  0.016949  0.014925  0.012987   \n",
       "rnd_pt_2  0.0       0.0  0.052632  0.040816  0.050847  0.042254  0.059524   \n",
       "rnd_pt_3  0.0  0.038462  0.026316  0.020833  0.016393  0.013699  0.035714   \n",
       "rnd_pt_4  0.0       0.0       0.0  0.040816  0.067797  0.068493  0.059524   \n",
       "rnd_pt_5  0.0       0.0       0.0  0.021739  0.017241  0.028986  0.025641   \n",
       "rnd_pt_6  0.0       0.0       0.0       0.0       0.0       0.0  0.011905   \n",
       "rnd_pt_7  0.0  0.037037   0.02439  0.018868  0.016949  0.028169  0.037037   \n",
       "rnd_pt_8  0.0       0.0       0.0      0.02  0.016129  0.013158  0.035714   \n",
       "rnd_pt_9  0.0       0.0       0.0  0.020408  0.032787  0.042857    0.0625   \n",
       "\n",
       "                40        45  \n",
       "rnd_pt_0  0.032258      0.04  \n",
       "rnd_pt_1  0.034483  0.041667  \n",
       "rnd_pt_2  0.076087  0.068627  \n",
       "rnd_pt_3  0.042105  0.057692  \n",
       "rnd_pt_4  0.076087  0.079208  \n",
       "rnd_pt_5  0.033708   0.03125  \n",
       "rnd_pt_6  0.021277      0.04  \n",
       "rnd_pt_7  0.043011      0.06  \n",
       "rnd_pt_8  0.044444  0.050505  \n",
       "rnd_pt_9  0.054348  0.048077  "
      ]
     },
     "execution_count": 223,
     "metadata": {},
     "output_type": "execute_result"
    }
   ],
   "source": [
    "ks = np.array(range(5, cutoff, 5))\n",
    "partitions = ['rnd_pt_'+str(i) for i in range(n)]\n",
    "df_rnd = pd.DataFrame(columns=ks, index=partitions)\n",
    "i = 0\n",
    "\n",
    "for partition_res in rnd_res:\n",
    "    partition_res = [block_res[:cutoff] for block_res in partition_res]\n",
    "    jacc_indices = []\n",
    "    for k in range(5, cutoff, 5):\n",
    "        jacc_indices.append(countOverlapping(partition_res, k))\n",
    "    jacc_indices = np.array(jacc_indices)\n",
    "    if i == 0:\n",
    "        df_rnd.loc[partitions[i]] = jacc_indices\n",
    "    else:\n",
    "        df_rnd.loc[partitions[i]] = jacc_indices \n",
    "    i = i + 1\n",
    "    \n",
    "df_rnd"
   ]
  },
  {
   "cell_type": "code",
   "execution_count": 224,
   "metadata": {},
   "outputs": [
    {
     "data": {
      "text/html": [
       "<div>\n",
       "<style scoped>\n",
       "    .dataframe tbody tr th:only-of-type {\n",
       "        vertical-align: middle;\n",
       "    }\n",
       "\n",
       "    .dataframe tbody tr th {\n",
       "        vertical-align: top;\n",
       "    }\n",
       "\n",
       "    .dataframe thead th {\n",
       "        text-align: right;\n",
       "    }\n",
       "</style>\n",
       "<table border=\"1\" class=\"dataframe\">\n",
       "  <thead>\n",
       "    <tr style=\"text-align: right;\">\n",
       "      <th></th>\n",
       "      <th>5</th>\n",
       "      <th>10</th>\n",
       "      <th>15</th>\n",
       "      <th>20</th>\n",
       "      <th>25</th>\n",
       "      <th>30</th>\n",
       "      <th>35</th>\n",
       "      <th>40</th>\n",
       "      <th>45</th>\n",
       "    </tr>\n",
       "  </thead>\n",
       "  <tbody>\n",
       "    <tr>\n",
       "      <th>conf_pt_0</th>\n",
       "      <td>0.0</td>\n",
       "      <td>0.0</td>\n",
       "      <td>0.0</td>\n",
       "      <td>0.0</td>\n",
       "      <td>0.0</td>\n",
       "      <td>0.012987</td>\n",
       "      <td>0.011364</td>\n",
       "      <td>0.010204</td>\n",
       "      <td>0.009259</td>\n",
       "    </tr>\n",
       "    <tr>\n",
       "      <th>conf_pt_1</th>\n",
       "      <td>0.0</td>\n",
       "      <td>0.0</td>\n",
       "      <td>0.0</td>\n",
       "      <td>0.018519</td>\n",
       "      <td>0.031746</td>\n",
       "      <td>0.041096</td>\n",
       "      <td>0.035714</td>\n",
       "      <td>0.043011</td>\n",
       "      <td>0.048077</td>\n",
       "    </tr>\n",
       "  </tbody>\n",
       "</table>\n",
       "</div>"
      ],
      "text/plain": [
       "            5    10   15        20        25        30        35        40  \\\n",
       "conf_pt_0  0.0  0.0  0.0       0.0       0.0  0.012987  0.011364  0.010204   \n",
       "conf_pt_1  0.0  0.0  0.0  0.018519  0.031746  0.041096  0.035714  0.043011   \n",
       "\n",
       "                 45  \n",
       "conf_pt_0  0.009259  \n",
       "conf_pt_1  0.048077  "
      ]
     },
     "execution_count": 224,
     "metadata": {},
     "output_type": "execute_result"
    }
   ],
   "source": [
    "ks = np.array(range(5, cutoff, 5))\n",
    "partitions = ['conf_pt_'+str(i) for i in range(m)]\n",
    "df_conf = pd.DataFrame(columns=ks, index=partitions)\n",
    "i = 0\n",
    "for partition_res in conf_res:\n",
    "    partition_res = [block_res[:cutoff] for block_res in partition_res]\n",
    "    jacc_indices = []\n",
    "    for k in range(5, cutoff, 5):\n",
    "        jacc_indices.append(countOverlapping(partition_res, k))\n",
    "    jacc_indices = np.array(jacc_indices)\n",
    "    if i == 0:\n",
    "        df_conf.loc[partitions[i]] = jacc_indices\n",
    "    else:\n",
    "        df_conf.loc[partitions[i]] = jacc_indices \n",
    "    i = i + 1\n",
    "#df_conf.loc['k'] = ks\n",
    "\n",
    "df_conf"
   ]
  },
  {
   "cell_type": "code",
   "execution_count": 225,
   "metadata": {},
   "outputs": [
    {
     "data": {
      "text/plain": [
       "<AxesSubplot:>"
      ]
     },
     "execution_count": 225,
     "metadata": {},
     "output_type": "execute_result"
    },
    {
     "data": {
      "image/png": "[encoded data removed]",
      "text/plain": [
       "<Figure size 432x288 with 1 Axes>"
      ]
     },
     "metadata": {
      "needs_background": "light"
     },
     "output_type": "display_data"
    }
   ],
   "source": [
    "# compare pairwise similarities of the results per k\n",
    "sns.boxplot(data=df_conf)"
   ]
  },
  {
   "cell_type": "code",
   "execution_count": 226,
   "metadata": {},
   "outputs": [
    {
     "data": {
      "text/plain": [
       "<AxesSubplot:>"
      ]
     },
     "execution_count": 226,
     "metadata": {},
     "output_type": "execute_result"
    },
    {
     "data": {
      "image/png": "[encoded data removed]",
      "text/plain": [
       "<Figure size 432x288 with 1 Axes>"
      ]
     },
     "metadata": {
      "needs_background": "light"
     },
     "output_type": "display_data"
    }
   ],
   "source": [
    "sns.boxplot(data=df_rnd)"
   ]
  },
  {
   "cell_type": "code",
   "execution_count": 227,
   "metadata": {},
   "outputs": [
    {
     "data": {
      "text/plain": [
       "<AxesSubplot:>"
      ]
     },
     "execution_count": 227,
     "metadata": {},
     "output_type": "execute_result"
    },
    {
     "data": {
      "image/png": "[encoded data removed]",
      "text/plain": [
       "<Figure size 432x288 with 1 Axes>"
      ]
     },
     "metadata": {
      "needs_background": "light"
     },
     "output_type": "display_data"
    }
   ],
   "source": [
    "df = pd.DataFrame()\n",
    "df['rnd_mean'] = df_rnd.mean(axis=0)\n",
    "df['conf_mean'] = df_conf.mean(axis=0)\n",
    "\n",
    "sns.boxplot(data=df)\n"
   ]
  },
  {
   "cell_type": "code",
   "execution_count": 228,
   "metadata": {},
   "outputs": [],
   "source": [
    "# TODO of course we can't see anything from this, because n and m are too small and\n",
    "# not all genes are taken into account\n",
    "def oc(df, steps):\n",
    "    ks = np.array(range(5, cutoff, 5))\n",
    "    for col in df:\n",
    "        df[col]= df[col]/np.log(int(col))\n",
    "\n",
    "    oc_figures_per_row = (1/steps)*np.array([df.iloc[i,:].sum() for i in range(df.shape[0])])\n",
    "    mean_penalized_oc = (1/len(oc_figures_per_row))*oc_figures_per_row\n",
    "    print(mean_penalized_oc) # per partition"
   ]
  },
  {
   "cell_type": "code",
   "execution_count": 229,
   "metadata": {},
   "outputs": [
    {
     "name": "stdout",
     "output_type": "stream",
     "text": [
      "[0.00065203 0.00056948 0.0012964  0.00087901 0.00125556 0.00050771\n",
      " 0.00021805 0.00091973 0.00056574 0.00082823]\n",
      "[0.00067851 0.00347007]\n"
     ]
    }
   ],
   "source": [
    "# compute figures (1/|steps|) * sum(oc(k)/log(k)) per row with k is col and oc(k) is value\n",
    "steps = (cutoff/5)-1\n",
    "oc(df_rnd.copy(), steps)\n",
    "oc(df_conf.copy(), steps)"
   ]
  },
  {
   "cell_type": "code",
   "execution_count": null,
   "metadata": {},
   "outputs": [],
   "source": []
  }
 ],
 "metadata": {
  "kernelspec": {
   "display_name": "Python 3",
   "language": "python",
   "name": "python3"
  },
  "language_info": {
   "codemirror_mode": {
    "name": "ipython",
    "version": 3
   },
   "file_extension": ".py",
   "mimetype": "text/x-python",
   "name": "python",
   "nbconvert_exporter": "python",
   "pygments_lexer": "ipython3",
   "version": "3.8.12"
  }
 },
 "nbformat": 4,
 "nbformat_minor": 4
}
